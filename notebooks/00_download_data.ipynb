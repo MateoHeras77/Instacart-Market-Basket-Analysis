{
 "cells": [
  {
   "cell_type": "markdown",
   "id": "60eefec0",
   "metadata": {},
   "source": [
    "# Download the zipfile archive.zip from kaggle"
   ]
  },
  {
   "cell_type": "code",
   "execution_count": 33,
   "id": "b20a83b3",
   "metadata": {},
   "outputs": [
    {
     "name": "stdout",
     "output_type": "stream",
     "text": [
      "Extracted files to ../data/interim/instacart_data\n",
      "Loaded aisles.csv into table aisles\n",
      "Loaded departments.csv into table departments\n",
      "Loaded orders.csv into table orders\n",
      "Loaded order_products__prior.csv into table order_products__prior\n",
      "Loaded order_products__train.csv into table order_products__train\n",
      "Loaded products.csv into table products\n",
      "Database '../data/processed/instacart.db' created successfully.\n"
     ]
    }
   ],
   "source": [
    "import os\n",
    "import zipfile\n",
    "import sqlite3\n",
    "import pandas as pd\n",
    "\n",
    "# Define paths\n",
    "zip_path = '../data/raw/archive.zip'\n",
    "extract_folder = '../data/interim/instacart_data'\n",
    "db_path = '../data/processed/instacart.db'\n",
    "\n",
    "# Step 1: Unzip the archive\n",
    "with zipfile.ZipFile(zip_path, 'r') as zip_ref:\n",
    "    zip_ref.extractall(extract_folder)\n",
    "    print(f\"Extracted files to {extract_folder}\")\n",
    "\n",
    "# Step 2: Connect to SQLite database (it will be created if it doesn't exist)\n",
    "conn = sqlite3.connect(db_path)\n",
    "cursor = conn.cursor()\n",
    "\n",
    "# Step 3: Load CSV files into SQLite\n",
    "for csv_file in os.listdir(extract_folder):\n",
    "    if csv_file.endswith('.csv'):\n",
    "        table_name = os.path.splitext(csv_file)[0]\n",
    "        file_path = os.path.join(extract_folder, csv_file)\n",
    "        \n",
    "        # Load CSV into pandas DataFrame\n",
    "        df = pd.read_csv(file_path)\n",
    "        \n",
    "        # Create table and insert data\n",
    "        df.to_sql(table_name, conn, if_exists='replace', index=False)\n",
    "        print(f\"Loaded {csv_file} into table {table_name}\")\n",
    "\n",
    "# Step 4: Commit changes and close connection\n",
    "conn.commit()\n",
    "conn.close()\n",
    "print(f\"Database '{db_path}' created successfully.\")\n"
   ]
  },
  {
   "cell_type": "markdown",
   "id": "379a0eb1",
   "metadata": {},
   "source": [
    "# Check Connections"
   ]
  },
  {
   "cell_type": "code",
   "execution_count": 35,
   "id": "cd3ce3f4",
   "metadata": {},
   "outputs": [
    {
     "name": "stdout",
     "output_type": "stream",
     "text": [
      "Table 'orders' exists.\n",
      "Table 'order_products__train' exists.\n",
      "Table 'order_products__prior' exists.\n",
      "Table 'products' exists.\n",
      "Table 'aisles' exists.\n",
      "Table 'departments' exists.\n"
     ]
    }
   ],
   "source": [
    "import sqlite3\n",
    "\n",
    "db_path = '../data/processed/instacart.db'\n",
    "\n",
    "# Connect to the SQLite database\n",
    "conn = sqlite3.connect(db_path)\n",
    "cursor = conn.cursor()\n",
    "\n",
    "# List of table names to check\n",
    "tables = ['orders', 'order_products__train', 'order_products__prior', 'products', 'aisles', 'departments']\n",
    "\n",
    "for table in tables:\n",
    "    cursor.execute(f\"SELECT name FROM sqlite_master WHERE type='table' AND name='{table}'\")\n",
    "    if cursor.fetchone():\n",
    "        print(f\"Table '{table}' exists.\")\n",
    "    else:\n",
    "        print(f\"Table '{table}' does not exist.\")\n",
    "\n",
    "conn.close()\n"
   ]
  },
  {
   "cell_type": "code",
   "execution_count": null,
   "id": "995713c7",
   "metadata": {},
   "outputs": [
    {
     "name": "stdout",
     "output_type": "stream",
     "text": [
      "('Organic Celery Hearts', 1)\n",
      "('Organic 4% Milk Fat Whole Milk Cottage Cheese', 1)\n",
      "('Bag of Organic Bananas', 1)\n",
      "('Organic Whole String Cheese', 1)\n",
      "('Lightly Smoked Sardines in Olive Oil', 1)\n",
      "('Organic Hass Avocado', 1)\n",
      "('Bulgarian Yogurt', 1)\n",
      "('Cucumber Kirby', 1)\n"
     ]
    }
   ],
   "source": [
    "import sqlite3\n",
    "\n",
    "db_path = '../data/processed/instacart.db'\n",
    "\n",
    "# Connect to the SQLite database\n",
    "conn = sqlite3.connect(db_path)\n",
    "cursor = conn.cursor()\n",
    "\n",
    "# Sample JOIN query\n",
    "cursor.execute(\"\"\"\n",
    "    SELECT p.product_name, o.order_id\n",
    "    FROM order_products__train opt\n",
    "    JOIN orders o ON opt.order_id = o.order_id\n",
    "    JOIN products p ON opt.product_id = p.product_id\n",
    "    WHERE o.order_id <= 10\n",
    "    LIMIT 10;\n",
    "\"\"\")\n",
    "\n",
    "rows = cursor.fetchall()\n",
    "for row in rows:\n",
    "    print(row)\n",
    "\n",
    "conn.close()\n"
   ]
  }
 ],
 "metadata": {
  "kernelspec": {
   "display_name": "UNFC",
   "language": "python",
   "name": "python3"
  },
  "language_info": {
   "codemirror_mode": {
    "name": "ipython",
    "version": 3
   },
   "file_extension": ".py",
   "mimetype": "text/x-python",
   "name": "python",
   "nbconvert_exporter": "python",
   "pygments_lexer": "ipython3",
   "version": "3.13.3"
  }
 },
 "nbformat": 4,
 "nbformat_minor": 5
}
